{
  "nbformat": 4,
  "nbformat_minor": 0,
  "metadata": {
    "colab": {
      "provenance": []
    },
    "kernelspec": {
      "name": "python3",
      "display_name": "Python 3"
    },
    "language_info": {
      "name": "python"
    }
  },
  "cells": [
    {
      "cell_type": "code",
      "source": [
        "from sklearn.linear_model import LogisticRegression\n",
        "import numpy as np\n",
        "\n",
        "X = np.array([[0], [1], [2], [3]])\n",
        "y = np.array([0, 0, 1, 1])\n",
        "model = LogisticRegression()\n",
        "model.fit(X, y)\n",
        "predictions = model.predict(np.array([[1.5], [2.5]]))\n",
        "print(predictions)"
      ],
      "metadata": {
        "colab": {
          "base_uri": "https://localhost:8080/"
        },
        "id": "IiNzaeUjfle6",
        "outputId": "9b2cb732-05e8-4ed7-b25e-d9ae05167086"
      },
      "execution_count": 2,
      "outputs": [
        {
          "output_type": "stream",
          "name": "stdout",
          "text": [
            "[1 1]\n"
          ]
        }
      ]
    }
  ]
}